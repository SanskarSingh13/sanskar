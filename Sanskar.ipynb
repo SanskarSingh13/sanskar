{
 "cells": [
  {
   "cell_type": "markdown",
   "id": "b58cff60-137d-43aa-ad62-df1475fe2790",
   "metadata": {},
   "source": [
    "# My Jupyter Notebook on IBM Watson Studio"
   ]
  },
  {
   "cell_type": "markdown",
   "id": "b4cdb625-d970-42e8-ab9d-f1f78d3fc304",
   "metadata": {},
   "source": [
    "**SANSKAR SINGH**\n",
    "\n",
    "STUDENT"
   ]
  },
  {
   "cell_type": "markdown",
   "id": "f36891dd-8d94-4b96-9698-9a4c89eb5314",
   "metadata": {},
   "source": [
    "*I love Data Science because I love coding and do analysis*"
   ]
  },
  {
   "cell_type": "markdown",
   "id": "a03a732c-1cde-44a3-9e2f-51039067f70a",
   "metadata": {},
   "source": [
    "### My code will print Hello World ##"
   ]
  },
  {
   "cell_type": "code",
   "execution_count": 1,
   "id": "6da87ed6-de40-43f6-bd91-8570ba0a99b2",
   "metadata": {},
   "outputs": [
    {
     "name": "stdout",
     "output_type": "stream",
     "text": [
      "Hello World\n"
     ]
    }
   ],
   "source": [
    "print(\"Hello World\")"
   ]
  },
  {
   "cell_type": "markdown",
   "id": "5aaf7874-3fee-4f1a-8a7b-08afd1f1f20e",
   "metadata": {},
   "source": [
    "***\n",
    "\n",
    "1. First\n",
    "2. Second\n",
    "3. Third\n",
    "\n",
    "* item 1\n",
    "* item 2\n",
    "* item 3"
   ]
  }
 ],
 "metadata": {
  "kernelspec": {
   "display_name": "Python",
   "language": "python",
   "name": "conda-env-python-py"
  },
  "language_info": {
   "codemirror_mode": {
    "name": "ipython",
    "version": 3
   },
   "file_extension": ".py",
   "mimetype": "text/x-python",
   "name": "python",
   "nbconvert_exporter": "python",
   "pygments_lexer": "ipython3",
   "version": "3.7.12"
  }
 },
 "nbformat": 4,
 "nbformat_minor": 5
}
